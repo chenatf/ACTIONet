{
 "cells": [
  {
   "cell_type": "code",
   "execution_count": 1,
   "metadata": {},
   "outputs": [],
   "source": [
    "%load_ext autoreload\n",
    "%autoreload 2\n",
    "import ACTIONet as an\n",
    "import scanpy as sc\n",
    "\n",
    "#read the data\n",
    "#adata=sc.read_h5ad(\"CellSIUS_Wegmann19/normalized_input.h5ad\")\n",
    "\n",
    "#perform reduction\n",
    "#an.pp.reduce_kernel(adata)\n",
    "\n",
    "#an.run_ACTIONet(adata,distance_metric=\"jsd\",nn_approach=\"k*nn\",k=10)#,copy=True)\n",
    "#adata.write_h5ad(\"celsius.h5ad\")"
   ]
  },
  {
   "cell_type": "code",
   "execution_count": 2,
   "metadata": {},
   "outputs": [],
   "source": [
    "#load preprocessed data \n",
    "adata=sc.read_h5ad(\"celsius.h5ad\")"
   ]
  },
  {
   "cell_type": "code",
   "execution_count": 3,
   "metadata": {},
   "outputs": [],
   "source": [
    "from ACTIONet import network as nt"
   ]
  },
  {
   "cell_type": "code",
   "execution_count": 4,
   "metadata": {},
   "outputs": [
    {
     "data": {
      "text/plain": [
       "AnnData object with n_obs × n_vars = 5000 × 23848\n",
       "    obs: 'cell_idx', 'Batch', 'cell_line', 'cell_cycle_phase', 'G1', 'S', 'G2M', 'total_counts', 'log10_total_counts', 'filter_on_total_counts', 'total_features', 'log10_total_features', 'filter_on_total_features', 'pct_dropout', 'exprs_feature_controls_MT', 'pct_exprs_feature_controls_MT', 'filter_on_pct_exprs_feature_controls_MT', 'counts_feature_controls_MT', 'pct_counts_feature_controls_MT', 'filter_on_pct_counts_feature_controls_MT', 'n_detected_feature_controls_MT', 'n_detected_feature_controls', 'counts_feature_controls', 'pct_counts_feature_controls', 'filter_on_pct_counts_feature_controls', 'pct_counts_top_50_features', 'pct_counts_top_100_features', 'pct_counts_top_200_features', 'pct_counts_top_500_features', 'pct_counts_top_50_endogenous_features', 'pct_counts_top_100_endogenous_features', 'pct_counts_top_200_endogenous_features', 'pct_counts_top_500_endogenous_features', 'counts_endogenous_features', 'log10_counts_feature_controls_MT', 'log10_counts_feature_controls', 'log10_counts_endogenous_features', 'is_cell_control', 'assigned_archetype', 'node_centrality'\n",
       "    var: 'gene_id', 'chr', 'symbol', 'gene_biotype', 'mean_exprs', 'exprs_rank', 'n_cells_exprs', 'total_feature_exprs', 'pct_total_exprs', 'pct_dropout', 'total_feature_counts', 'log10_total_feature_counts', 'pct_total_counts', 'is_feature_control_MT', 'is_feature_control'\n",
       "    uns: 'ACTION', 'metadata', 'obsm_annot', 'varm_annot'\n",
       "    obsm: 'ACTION', 'ACTION_B', 'ACTIONet2D', 'ACTIONet3D', 'ACTIONred', 'C_stacked', 'C_unified', 'H_stacked', 'H_unified', 'archetype_footprint', 'denovo_color'\n",
       "    varm: 'ACTION_A', 'ACTION_V', 'unified_feature_profile', 'unified_feature_specificity'\n",
       "    layers: 'counts'\n",
       "    obsp: 'ACTIONet'"
      ]
     },
     "execution_count": 4,
     "metadata": {},
     "output_type": "execute_result"
    }
   ],
   "source": [
    "adata"
   ]
  },
  {
   "cell_type": "code",
   "execution_count": 5,
   "metadata": {},
   "outputs": [],
   "source": [
    "from ACTIONet.plotting._plot import plot_ACTIONet"
   ]
  },
  {
   "cell_type": "code",
   "execution_count": 8,
   "metadata": {},
   "outputs": [
    {
     "ename": "KeyError",
     "evalue": "'Twilight'",
     "output_type": "error",
     "traceback": [
      "\u001b[0;31m---------------------------------------------------------------------------\u001b[0m",
      "\u001b[0;31mKeyError\u001b[0m                                  Traceback (most recent call last)",
      "\u001b[0;32m<ipython-input-8-305d0fcafb13>\u001b[0m in \u001b[0;36m<module>\u001b[0;34m\u001b[0m\n\u001b[0;32m----> 1\u001b[0;31m plot_ACTIONet(adata,label_key=\"cell_line\",\n\u001b[0m\u001b[1;32m      2\u001b[0m               \u001b[0mtransparency_key\u001b[0m\u001b[0;34m=\u001b[0m\u001b[0;34m\"total_counts\"\u001b[0m\u001b[0;34m,\u001b[0m\u001b[0;34m\u001b[0m\u001b[0;34m\u001b[0m\u001b[0m\n\u001b[1;32m      3\u001b[0m               \u001b[0mpalette\u001b[0m\u001b[0;34m=\u001b[0m\u001b[0;34m\"Twilight\"\u001b[0m\u001b[0;34m,\u001b[0m\u001b[0;34m\u001b[0m\u001b[0;34m\u001b[0m\u001b[0m\n\u001b[1;32m      4\u001b[0m               \u001b[0moutput_file\u001b[0m\u001b[0;34m=\u001b[0m\u001b[0;34m\"example.svg\"\u001b[0m\u001b[0;34m,\u001b[0m\u001b[0;34m\u001b[0m\u001b[0;34m\u001b[0m\u001b[0m\n\u001b[1;32m      5\u001b[0m               border_contrast_factor=0.9)\n",
      "\u001b[0;32m~/ACTIONet/ACTIONet/plotting/_plot.py\u001b[0m in \u001b[0;36mplot_ACTIONet\u001b[0;34m(adata, label_key, coordinate_key, transparency_key, transparency_z_threshold, transparency_factor, border_contrast_factor, node_size, add_text, palette, output_file)\u001b[0m\n\u001b[1;32m     86\u001b[0m                 \u001b[0mpalette\u001b[0m\u001b[0;34m=\u001b[0m\u001b[0mpx\u001b[0m\u001b[0;34m.\u001b[0m\u001b[0mcolors\u001b[0m\u001b[0;34m.\u001b[0m\u001b[0mqualitative\u001b[0m\u001b[0;34m.\u001b[0m\u001b[0m__dict__\u001b[0m\u001b[0;34m[\u001b[0m\u001b[0mpalette\u001b[0m\u001b[0;34m]\u001b[0m\u001b[0;34m\u001b[0m\u001b[0;34m\u001b[0m\u001b[0m\n\u001b[1;32m     87\u001b[0m             \u001b[0;32melse\u001b[0m\u001b[0;34m:\u001b[0m\u001b[0;34m\u001b[0m\u001b[0;34m\u001b[0m\u001b[0m\n\u001b[0;32m---> 88\u001b[0;31m                 \u001b[0mpalette\u001b[0m\u001b[0;34m=\u001b[0m\u001b[0mpx\u001b[0m\u001b[0;34m.\u001b[0m\u001b[0mcolors\u001b[0m\u001b[0;34m.\u001b[0m\u001b[0msequential\u001b[0m\u001b[0;34m.\u001b[0m\u001b[0m__dict__\u001b[0m\u001b[0;34m[\u001b[0m\u001b[0mpalette\u001b[0m\u001b[0;34m]\u001b[0m\u001b[0;34m\u001b[0m\u001b[0;34m\u001b[0m\u001b[0m\n\u001b[0m\u001b[1;32m     89\u001b[0m         \u001b[0mlabel_colors\u001b[0m \u001b[0;34m=\u001b[0m \u001b[0;34m{\u001b[0m\u001b[0mlabel\u001b[0m\u001b[0;34m:\u001b[0m \u001b[0mpalette\u001b[0m\u001b[0;34m[\u001b[0m\u001b[0mi\u001b[0m \u001b[0;34m%\u001b[0m \u001b[0mlen\u001b[0m\u001b[0;34m(\u001b[0m\u001b[0mpalette\u001b[0m\u001b[0;34m)\u001b[0m\u001b[0;34m]\u001b[0m \u001b[0;32mfor\u001b[0m \u001b[0mi\u001b[0m\u001b[0;34m,\u001b[0m \u001b[0mlabel\u001b[0m \u001b[0;32min\u001b[0m \u001b[0menumerate\u001b[0m\u001b[0;34m(\u001b[0m\u001b[0munique_labels\u001b[0m\u001b[0;34m)\u001b[0m\u001b[0;34m}\u001b[0m\u001b[0;34m\u001b[0m\u001b[0;34m\u001b[0m\u001b[0m\n\u001b[1;32m     90\u001b[0m         \u001b[0mv_col\u001b[0m \u001b[0;34m=\u001b[0m \u001b[0;34m[\u001b[0m\u001b[0mlabel_colors\u001b[0m\u001b[0;34m[\u001b[0m\u001b[0mlabel\u001b[0m\u001b[0;34m]\u001b[0m \u001b[0;32mfor\u001b[0m \u001b[0mlabel\u001b[0m \u001b[0;32min\u001b[0m \u001b[0mlabels\u001b[0m\u001b[0;34m]\u001b[0m\u001b[0;34m\u001b[0m\u001b[0;34m\u001b[0m\u001b[0m\n",
      "\u001b[0;31mKeyError\u001b[0m: 'Twilight'"
     ]
    }
   ],
   "source": [
    "plot_ACTIONet(adata,label_key=\"cell_line\",\n",
    "              transparency_key=\"total_counts\",\n",
    "              palette=\"Twilight\",\n",
    "              output_file=\"example.svg\",\n",
    "              border_contrast_factor=0.9)"
   ]
  },
  {
   "cell_type": "code",
   "execution_count": 206,
   "metadata": {},
   "outputs": [
    {
     "data": {
      "text/plain": [
       "(77, 134, 192)"
      ]
     },
     "execution_count": 206,
     "metadata": {},
     "output_type": "execute_result"
    }
   ],
   "source": [
    "color=(100,150,200)\n",
    "from ACTIONet.plotting._color import * \n",
    "adjust_lightness(color,0.9)"
   ]
  },
  {
   "cell_type": "code",
   "execution_count": 209,
   "metadata": {},
   "outputs": [
    {
     "data": {
      "text/plain": [
       "['aggrnyl',\n",
       " 'agsunset',\n",
       " 'blackbody',\n",
       " 'bluered',\n",
       " 'blues',\n",
       " 'blugrn',\n",
       " 'bluyl',\n",
       " 'brwnyl',\n",
       " 'bugn',\n",
       " 'bupu',\n",
       " 'burg',\n",
       " 'burgyl',\n",
       " 'cividis',\n",
       " 'darkmint',\n",
       " 'electric',\n",
       " 'emrld',\n",
       " 'gnbu',\n",
       " 'greens',\n",
       " 'greys',\n",
       " 'hot',\n",
       " 'inferno',\n",
       " 'jet',\n",
       " 'magenta',\n",
       " 'magma',\n",
       " 'mint',\n",
       " 'orrd',\n",
       " 'oranges',\n",
       " 'oryel',\n",
       " 'peach',\n",
       " 'pinkyl',\n",
       " 'plasma',\n",
       " 'plotly3',\n",
       " 'pubu',\n",
       " 'pubugn',\n",
       " 'purd',\n",
       " 'purp',\n",
       " 'purples',\n",
       " 'purpor',\n",
       " 'rainbow',\n",
       " 'rdbu',\n",
       " 'rdpu',\n",
       " 'redor',\n",
       " 'reds',\n",
       " 'sunset',\n",
       " 'sunsetdark',\n",
       " 'teal',\n",
       " 'tealgrn',\n",
       " 'turbo',\n",
       " 'viridis',\n",
       " 'ylgn',\n",
       " 'ylgnbu',\n",
       " 'ylorbr',\n",
       " 'ylorrd',\n",
       " 'algae',\n",
       " 'amp',\n",
       " 'deep',\n",
       " 'dense',\n",
       " 'gray',\n",
       " 'haline',\n",
       " 'ice',\n",
       " 'matter',\n",
       " 'solar',\n",
       " 'speed',\n",
       " 'tempo',\n",
       " 'thermal',\n",
       " 'turbid',\n",
       " 'armyrose',\n",
       " 'brbg',\n",
       " 'earth',\n",
       " 'fall',\n",
       " 'geyser',\n",
       " 'prgn',\n",
       " 'piyg',\n",
       " 'picnic',\n",
       " 'portland',\n",
       " 'puor',\n",
       " 'rdgy',\n",
       " 'rdylbu',\n",
       " 'rdylgn',\n",
       " 'spectral',\n",
       " 'tealrose',\n",
       " 'temps',\n",
       " 'tropic',\n",
       " 'balance',\n",
       " 'curl',\n",
       " 'delta',\n",
       " 'oxy',\n",
       " 'edge',\n",
       " 'hsv',\n",
       " 'icefire',\n",
       " 'phase',\n",
       " 'twilight',\n",
       " 'mrybm',\n",
       " 'mygbm']"
      ]
     },
     "execution_count": 209,
     "metadata": {},
     "output_type": "execute_result"
    }
   ],
   "source": [
    "px.colors.named_colorscales()"
   ]
  }
 ],
 "metadata": {
  "kernelspec": {
   "display_name": "Python 3",
   "language": "python",
   "name": "python3"
  },
  "language_info": {
   "codemirror_mode": {
    "name": "ipython",
    "version": 3
   },
   "file_extension": ".py",
   "mimetype": "text/x-python",
   "name": "python",
   "nbconvert_exporter": "python",
   "pygments_lexer": "ipython3",
   "version": "3.8.5"
  }
 },
 "nbformat": 4,
 "nbformat_minor": 4
}
